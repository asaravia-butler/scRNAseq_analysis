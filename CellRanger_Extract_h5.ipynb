{
 "cells": [
  {
   "cell_type": "markdown",
   "id": "cae1d08f",
   "metadata": {},
   "source": [
    "**Extract User-Submitted CellRanger Sample-Level Data from OSD/GLDS-352.**\n",
    "\n",
    "\n",
    "**CellRanger command:**\n",
    "- From OSD-352 user-submitted data\n",
    "- Used Cellranger Arc 2.0.0 for data processing\n",
    "- The code for the complete analysis pipeline is provided under the github repository: https://github.com/giacomellolab/NASA_RR3_Brain/tree/main/multiomics"
   ]
  },
  {
   "cell_type": "markdown",
   "id": "8a791f1a",
   "metadata": {},
   "source": [
    "### Import libraries"
   ]
  },
  {
   "cell_type": "code",
   "execution_count": null,
   "id": "13bff735-c194-43fc-a235-79e9335c6b8d",
   "metadata": {},
   "outputs": [],
   "source": [
    "import h5py\n",
    "import scipy.io\n",
    "import numpy as np\n",
    "import pandas as pd\n",
    "import os"
   ]
  },
  {
   "cell_type": "markdown",
   "id": "8b2b26f5-5ed8-436a-9529-072ed16f260c",
   "metadata": {},
   "source": [
    "### Extract GEX barcodes from all cells from each sample"
   ]
  },
  {
   "cell_type": "code",
   "execution_count": null,
   "id": "7e6dd268-b559-46aa-92bb-3eaa292edfb6",
   "metadata": {},
   "outputs": [],
   "source": [
    "# List of sample file names and corresponding output file names\n",
    "sample_files = [\n",
    "    'CF1_per_barcode_metrics.csv',\n",
    "    'CF2_per_barcode_metrics.csv',\n",
    "    'CF7_per_barcode_metrics.csv',\n",
    "    'CG8_per_barcode_metrics.csv',\n",
    "    'CG9_per_barcode_metrics.csv'\n",
    "]\n",
    "\n",
    "output_files = [\n",
    "    'CF1_gex_barcodes_for_cells.csv',\n",
    "    'CF2_gex_barcodes_for_cells.csv',\n",
    "    'CF7_gex_barcodes_for_cells.csv',\n",
    "    'CG8_gex_barcodes_for_cells.csv',\n",
    "    'CG9_gex_barcodes_for_cells.csv'\n",
    "]\n",
    "\n",
    "# Process each sample file\n",
    "for sample_file, output_file in zip(sample_files, output_files):\n",
    "    # Load the metadata CSV file\n",
    "    metadata_df = pd.read_csv(sample_file)\n",
    "    \n",
    "    # Filter rows where 'is_cell' is 1\n",
    "    cell_metadata_df = metadata_df[metadata_df['is_cell'] == 1]\n",
    "    \n",
    "    # Extract the 'gex_barcode' column\n",
    "    gex_barcodes = cell_metadata_df['gex_barcode']\n",
    "    \n",
    "    # Verify the number of cells\n",
    "    print(f\"Number of cells in {sample_file}: {len(gex_barcodes)}\")  # Should match the expected count\n",
    "    \n",
    "    # Save the gex_barcodes to a file\n",
    "    gex_barcodes.to_csv(output_file, index=False, header=False)\n",
    "    print(f\"Saved {output_file}\")\n",
    "\n",
    "# After running the code, the gex barcode files will be saved in the current directory."
   ]
  },
  {
   "cell_type": "markdown",
   "id": "cd58abe6-7646-4548-982e-29699ff36303",
   "metadata": {},
   "source": [
    "### Set data paths"
   ]
  },
  {
   "cell_type": "code",
   "execution_count": null,
   "id": "2924a5a9-7dfd-48e6-a4cf-c6fef6d5fb30",
   "metadata": {},
   "outputs": [],
   "source": [
    "# Paths to your files\n",
    "h5_filename = 'GLDS-352_snRNA-Seq_filtered_feature_bc_matrix.h5'  # Replace with your .h5 file path\n",
    "csv_filenames = [\n",
    "    'CF1_gex_barcodes_for_cells.csv',\n",
    "    'CF2_gex_barcodes_for_cells.csv',\n",
    "    'CF7_gex_barcodes_for_cells.csv',\n",
    "    'CG8_gex_barcodes_for_cells.csv',\n",
    "    'CG9_gex_barcodes_for_cells.csv'\n",
    "]\n",
    "sample_names = ['CF1', 'CF2', 'CF7', 'CG8', 'CG9']\n",
    "output_base_dir = 'CR_output'  # Replace with your desired output base directory"
   ]
  },
  {
   "cell_type": "markdown",
   "id": "320989ba-382c-4c81-830a-134c776abc18",
   "metadata": {},
   "source": [
    "### Set up functions to extract sample-level data"
   ]
  },
  {
   "cell_type": "code",
   "execution_count": null,
   "id": "4c41247a-5312-469b-9e5b-0dd95421447f",
   "metadata": {},
   "outputs": [],
   "source": [
    "# Function to read HDF5 file\n",
    "def read_h5_file(h5_filename):\n",
    "    with h5py.File(h5_filename, 'r') as f:\n",
    "        barcodes = f['matrix']['barcodes'][()]\n",
    "        barcodes = [barcode.decode('utf-8') for barcode in barcodes]\n",
    "        \n",
    "        features = f['matrix']['features']['name'][()]\n",
    "        feature_ids = f['matrix']['features']['id'][()]\n",
    "        feature_types = f['matrix']['features']['feature_type'][()]\n",
    "        \n",
    "        data = f['matrix']['data'][()]\n",
    "        indices = f['matrix']['indices'][()]\n",
    "        indptr = f['matrix']['indptr'][()]\n",
    "        shape = f['matrix']['shape'][()]\n",
    "        \n",
    "    return barcodes, features, feature_ids, feature_types, data, indices, indptr, shape\n",
    "\n",
    "# Function to write TSV and MTX files\n",
    "def write_files(barcodes, features, feature_ids, feature_types, data, indices, indptr, shape, sample_barcodes, output_dir):\n",
    "    os.makedirs(output_dir, exist_ok=True)\n",
    "    \n",
    "    sample_indices = [i for i, barcode in enumerate(barcodes) if barcode in sample_barcodes]\n",
    "    filtered_data = []\n",
    "    filtered_indices = []\n",
    "    filtered_indptr = [0]\n",
    "\n",
    "    for idx in sample_indices:\n",
    "        start = indptr[idx]\n",
    "        end = indptr[idx + 1]\n",
    "        filtered_data.extend(data[start:end])\n",
    "        filtered_indices.extend(indices[start:end])\n",
    "        filtered_indptr.append(len(filtered_data))\n",
    "    \n",
    "    filtered_shape = (shape[0], len(sample_indices))\n",
    "\n",
    "    with open(os.path.join(output_dir, 'barcodes.tsv'), 'w') as bfile:\n",
    "        bfile.write('\\n'.join(sample_barcodes) + '\\n')\n",
    "\n",
    "    with open(os.path.join(output_dir, 'features.tsv'), 'w') as ffile:\n",
    "        for i in range(len(features)):\n",
    "            ffile.write(f\"{feature_ids[i].decode('utf-8')}\\t{features[i].decode('utf-8')}\\t{feature_types[i].decode('utf-8')}\\n\")\n",
    "\n",
    "    scipy.io.mmwrite(os.path.join(output_dir, 'matrix.mtx'), \n",
    "                     scipy.sparse.csc_matrix((filtered_data, filtered_indices, filtered_indptr), shape=filtered_shape))\n",
    "\n",
    "# Function to process samples\n",
    "def process_samples(h5_filename, csv_filenames, sample_names, output_base_dir):\n",
    "    barcodes, features, feature_ids, feature_types, data, indices, indptr, shape = read_h5_file(h5_filename)\n",
    "    \n",
    "    for csv_filename, sample_name in zip(csv_filenames, sample_names):\n",
    "        df = pd.read_csv(csv_filename, header=None)\n",
    "        sample_barcodes = df[0].tolist()\n",
    "        \n",
    "        output_dir = os.path.join(output_base_dir, sample_name)\n",
    "        write_files(barcodes, features, feature_ids, feature_types, data, indices, indptr, shape, sample_barcodes, output_dir)"
   ]
  },
  {
   "cell_type": "markdown",
   "id": "54a53c0c-d5f4-426f-9a28-4a122d11cc6c",
   "metadata": {},
   "source": [
    "### Extract sample-level data"
   ]
  },
  {
   "cell_type": "code",
   "execution_count": null,
   "id": "954c2b99-be55-460e-a0eb-2acffdc2783f",
   "metadata": {},
   "outputs": [],
   "source": [
    "# Process samples\n",
    "process_samples(h5_filename, csv_filenames, sample_names, output_base_dir)\n",
    "\n",
    "# Display output files for verification\n",
    "for sample_name in sample_names:\n",
    "    print(f\"Files for sample {sample_name}:\")\n",
    "    sample_output_dir = os.path.join(output_base_dir, sample_name)\n",
    "    for root, dirs, files in os.walk(sample_output_dir):\n",
    "        for file in files:\n",
    "            print(os.path.join(root, file))\n",
    "    print()"
   ]
  },
  {
   "cell_type": "markdown",
   "id": "e07918c4-d151-45eb-886b-729bca0d1c64",
   "metadata": {},
   "source": [
    "### Check number of cells in the original filtered_feature_bc_matrix.h5 file compared with the sum of the number of cells extracted for each sample"
   ]
  },
  {
   "cell_type": "code",
   "execution_count": null,
   "id": "760850f8-d0e7-47cc-a7c0-b8744736a85a",
   "metadata": {},
   "outputs": [],
   "source": [
    "# Function to read barcodes from HDF5 file\n",
    "def count_barcodes_in_h5(h5_filename):\n",
    "    with h5py.File(h5_filename, 'r') as f:\n",
    "        barcodes = f['matrix']['barcodes'][()]\n",
    "        return len(barcodes)\n",
    "\n",
    "# Function to count lines in a file (used for barcodes.tsv)\n",
    "def count_lines(file_path):\n",
    "    with open(file_path, 'r') as f:\n",
    "        return sum(1 for _ in f)\n",
    "\n",
    "# Path to your original HDF5 file\n",
    "h5_filename = 'GLDS-352_snRNA-Seq_filtered_feature_bc_matrix.h5'  # Replace with your .h5 file path\n",
    "\n",
    "# Paths to your extracted barcodes.tsv files for each sample\n",
    "sample_dirs = [\n",
    "    'CR_output/CF1',\n",
    "    'CR_output/CF2',\n",
    "    'CR_output/CF7',\n",
    "    'CR_output/CG8',\n",
    "    'CR_output/CG9'\n",
    "]\n",
    "\n",
    "# Count cells in the original HDF5 file\n",
    "original_cell_count = count_barcodes_in_h5(h5_filename)\n",
    "print(f\"Number of cells in the original HDF5 file: {original_cell_count}\")\n",
    "\n",
    "# Count cells in the extracted barcodes.tsv files for each sample\n",
    "extracted_cell_count = 0\n",
    "for sample_dir in sample_dirs:\n",
    "    barcodes_file = os.path.join(sample_dir, 'barcodes.tsv')\n",
    "    sample_cell_count = count_lines(barcodes_file)\n",
    "    extracted_cell_count += sample_cell_count\n",
    "    print(f\"Number of cells in {barcodes_file}: {sample_cell_count}\")\n",
    "\n",
    "# Print total number of cells in extracted files\n",
    "print(f\"Total number of cells in extracted files: {extracted_cell_count}\")\n",
    "\n",
    "# Compare counts\n",
    "if original_cell_count == extracted_cell_count:\n",
    "    print(\"The number of cells matches between the original HDF5 file and the extracted files.\")\n",
    "else:\n",
    "    print(\"The number of cells does not match. Please check the extracted files and the original HDF5 file.\")\n"
   ]
  },
  {
   "cell_type": "markdown",
   "id": "962d8e93-fffa-4972-8824-128c38e3b3a5",
   "metadata": {},
   "source": [
    "*Note: If these number do not match exactly it could be due to different filtering parameters for GEX and ATACseq barcodes.*"
   ]
  },
  {
   "cell_type": "markdown",
   "id": "3efaf14c-2f67-4f6b-97c0-4f985b9988e2",
   "metadata": {},
   "source": [
    "### Check that the numbers in the first row of the matrix.mtx file matches the number of features (aka genes) in the features.tsv, the number of barcodes (aka cells) in the barcodes.tsv, and the number of UMIs in the matrix.mtx file, respectively, for each sample"
   ]
  },
  {
   "cell_type": "code",
   "execution_count": null,
   "id": "ad6cc391-469a-4436-9b44-557dec4dd31f",
   "metadata": {},
   "outputs": [],
   "source": [
    "def check_files(sample_dir):\n",
    "    barcodes_file = os.path.join(sample_dir, 'barcodes.tsv')\n",
    "    features_file = os.path.join(sample_dir, 'features.tsv')\n",
    "    matrix_file = os.path.join(sample_dir, 'matrix.mtx')\n",
    "\n",
    "    # Step 1: Read the barcodes.tsv file and count the rows\n",
    "    with open(barcodes_file, 'r') as f:\n",
    "        barcodes_count = sum(1 for line in f)\n",
    "    \n",
    "    # Step 2: Read the features.tsv file and count the rows\n",
    "    with open(features_file, 'r') as f:\n",
    "        features_count = sum(1 for line in f)\n",
    "    \n",
    "    # Step 3: Read the matrix.mtx file and get the values in the first row\n",
    "    with open(matrix_file, 'r') as f:\n",
    "        for line in f:\n",
    "            if not line.startswith('%'):\n",
    "                first_line = line.strip()\n",
    "                break\n",
    "        matrix_info = first_line.split()\n",
    "        if len(matrix_info) >= 3:\n",
    "            matrix_features_count = int(matrix_info[0])\n",
    "            matrix_barcodes_count = int(matrix_info[1])\n",
    "            matrix_data_count = int(matrix_info[2])\n",
    "        else:\n",
    "            raise ValueError(\"The first row of the matrix.mtx file does not contain the expected number of columns.\")\n",
    "\n",
    "    # Step 4: Read the matrix.mtx file and count the rows of data\n",
    "    with open(matrix_file, 'r') as f:\n",
    "        data_count = sum(1 for line in f if not line.startswith('%')) - 1  # subtract 1 to exclude the header row\n",
    "\n",
    "    # Step 5: Compare the counts\n",
    "    if barcodes_count == matrix_barcodes_count and features_count == matrix_features_count and data_count == matrix_data_count:\n",
    "        print(f\"Success: The number of rows in barcodes.tsv ({barcodes_count}), features.tsv ({features_count}), and matrix.mtx data rows ({data_count}) match the values in the matrix.mtx header for {sample_dir}.\")\n",
    "    else:\n",
    "        print(f\"Error: There is a mismatch in {sample_dir}.\")\n",
    "        if barcodes_count != matrix_barcodes_count:\n",
    "            print(f\"  - Barcodes count: {barcodes_count}, expected: {matrix_barcodes_count}\")\n",
    "        if features_count != matrix_features_count:\n",
    "            print(f\"  - Features count: {features_count}, expected: {matrix_features_count}\")\n",
    "        if data_count != matrix_data_count:\n",
    "            print(f\"  - Matrix data rows count: {data_count}, expected: {matrix_data_count}\")\n",
    "\n",
    "def check_all_samples(base_dir, samples):\n",
    "    for sample in samples:\n",
    "        sample_dir = os.path.join(base_dir, sample)\n",
    "        check_files(sample_dir)\n",
    "\n",
    "# Usage\n",
    "base_dir = 'CR_output'\n",
    "samples = ['CF1', 'CF2', 'CF7', 'CG8', 'CG9']\n",
    "check_all_samples(base_dir, samples)"
   ]
  },
  {
   "cell_type": "code",
   "execution_count": null,
   "id": "6966573c-17bc-402c-8ed0-59e2db537b71",
   "metadata": {},
   "outputs": [],
   "source": []
  }
 ],
 "metadata": {
  "kernelspec": {
   "display_name": "Python 3 (ipykernel)",
   "language": "python",
   "name": "python3"
  },
  "language_info": {
   "codemirror_mode": {
    "name": "ipython",
    "version": 3
   },
   "file_extension": ".py",
   "mimetype": "text/x-python",
   "name": "python",
   "nbconvert_exporter": "python",
   "pygments_lexer": "ipython3",
   "version": "3.12.4"
  },
  "toc": {
   "base_numbering": 1,
   "nav_menu": {},
   "number_sections": true,
   "sideBar": true,
   "skip_h1_title": false,
   "title_cell": "Table of Contents",
   "title_sidebar": "Contents",
   "toc_cell": false,
   "toc_position": {},
   "toc_section_display": true,
   "toc_window_display": false
  }
 },
 "nbformat": 4,
 "nbformat_minor": 5
}
