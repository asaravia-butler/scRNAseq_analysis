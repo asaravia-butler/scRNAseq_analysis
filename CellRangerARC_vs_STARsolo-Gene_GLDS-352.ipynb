{
 "cells": [
  {
   "cell_type": "markdown",
   "metadata": {},
   "source": [
    "**Compare the outputs of Cell Ranger ARC and STARsolo for OSD/GLDS-352 samples.**\n",
    "\n",
    "\n",
    "**Cell Ranger ARC command:**\n",
    "- Used Cellranger Arc 2.0.2 for data processing\n",
    "\n",
    "```bash\n",
    "cellranger-arc count --jobmode=local \\\n",
    "    --localcores=32 \\\n",
    "    --localmem=115 \\\n",
    "    --id=${SAMPLE} \\\n",
    "    --reference=/cellranger/refdata-cellranger-arc-mm10-2020-A-2.0.0 \\\n",
    "    --libraries=${SAMPLE}_info.csv\n",
    "```\n",
    "\n",
    "\n",
    "\n",
    "**STARsolo command:** \n",
    "- Used STAR 2.7.10a for data processing\n",
    "\n",
    "```bash\n",
    "STAR --runThreadN 18 \\\n",
    "\t--genomeDir $genomeDir \\\n",
    "\t--soloType CB_UMI_Simple \\\n",
    "\t--clipAdapterType CellRanger4 \\\n",
    "\t--outFilterScoreMin 30 \\\n",
    "\t--soloCBmatchWLtype 1MM_multi_Nbase_pseudocounts \\\n",
    "\t--soloUMIfiltering MultiGeneUMI_CR \\\n",
    "\t--soloUMIdedup 1MM_CR \\\n",
    "\t--soloUMIlen 12 \\\n",
    "\t--soloCellFilter EmptyDrops_CR $expectedCells 0.99 10 45000 90000 500 0.01 20000 0.01 10000 \\\n",
    "\t--soloMultiMappers EM \\\n",
    "\t--outSAMattributes NH HI nM AS CR UR GX GN sS sQ sM \\\n",
    "\t--outSAMtype BAM Unsorted \\\n",
    "\t--soloFeatures Gene GeneFull SJ Velocyto \\\n",
    "\t--readFilesCommand zcat \\\n",
    "\t--soloCBwhitelist $whitelist \\\n",
    "\t--outFileNamePrefix $outDir/${sample}/${sample}_ \\\n",
    "\t--readFilesIn $fastqDir/${sample}_R2_raw.fastq.gz $fastqDir/${sample}_R1_raw.fastq.gz\n",
    "```\n",
    "        \n",
    "Time=47 minutes\n",
    "\n",
    "**All plots are shown CellRanger first, STARsolo second**"
   ]
  },
  {
   "cell_type": "markdown",
   "metadata": {},
   "source": [
    "### Set count data paths:"
   ]
  },
  {
   "cell_type": "code",
   "execution_count": null,
   "metadata": {},
   "outputs": [],
   "source": [
    "sample='CF2'\n",
    "\n",
    "cr_counts='./OSD-352_GLDS-352_outputs/' + sample + '/GL_CRA-filtered'\n",
    "\n",
    "ss_counts='./OSD-352_GLDS-352_outputs/' + sample + '/GL_SS-filtered'"
   ]
  },
  {
   "cell_type": "markdown",
   "metadata": {},
   "source": [
    "### Import libraries"
   ]
  },
  {
   "cell_type": "code",
   "execution_count": null,
   "metadata": {},
   "outputs": [],
   "source": [
    "import scanpy as sc"
   ]
  },
  {
   "cell_type": "code",
   "execution_count": null,
   "metadata": {},
   "outputs": [],
   "source": [
    "import numpy as np\n",
    "import pandas as pd\n",
    "import matplotlib.pyplot as plt"
   ]
  },
  {
   "cell_type": "code",
   "execution_count": null,
   "metadata": {},
   "outputs": [],
   "source": [
    "sc.settings.verbosity = 0             # verbosity: errors (0), warnings (1), info (2), hints (3)\n",
    "sc.logging.print_header()\n",
    "sc.settings.set_figure_params(dpi=80, facecolor='white')"
   ]
  },
  {
   "cell_type": "markdown",
   "metadata": {},
   "source": [
    "### Import data"
   ]
  },
  {
   "cell_type": "markdown",
   "metadata": {},
   "source": [
    "#### Extract Cell Ranger ARC (cr) data"
   ]
  },
  {
   "cell_type": "code",
   "execution_count": null,
   "metadata": {},
   "outputs": [],
   "source": [
    "cr = sc.read_10x_mtx(\n",
    "    cr_counts,  \n",
    "    var_names='gene_symbols',                \n",
    "    cache=False)    "
   ]
  },
  {
   "cell_type": "markdown",
   "metadata": {},
   "source": [
    "#### Extract STARsolo data"
   ]
  },
  {
   "cell_type": "code",
   "execution_count": null,
   "metadata": {},
   "outputs": [],
   "source": [
    "ss = sc.read_10x_mtx(\n",
    "    ss_counts,  \n",
    "    var_names='gene_symbols',                \n",
    "    cache=False) "
   ]
  },
  {
   "cell_type": "code",
   "execution_count": null,
   "metadata": {},
   "outputs": [],
   "source": [
    "cr"
   ]
  },
  {
   "cell_type": "code",
   "execution_count": null,
   "metadata": {},
   "outputs": [],
   "source": [
    "ss"
   ]
  },
  {
   "cell_type": "markdown",
   "metadata": {},
   "source": [
    "-------\n",
    "\n",
    "*Takeaway:* Different number of genes, different number of cells.\n",
    "\n",
    "-------"
   ]
  },
  {
   "cell_type": "markdown",
   "metadata": {},
   "source": [
    "#### Plot highest expressed genes"
   ]
  },
  {
   "cell_type": "code",
   "execution_count": null,
   "metadata": {},
   "outputs": [],
   "source": [
    "sc.pl.highest_expr_genes(cr, n_top=20, )"
   ]
  },
  {
   "cell_type": "code",
   "execution_count": null,
   "metadata": {},
   "outputs": [],
   "source": [
    "sc.pl.highest_expr_genes(ss, n_top=20, )"
   ]
  },
  {
   "cell_type": "markdown",
   "metadata": {},
   "source": [
    "----\n",
    "\n",
    "*Takeaway:* Highly variable genes are different\n",
    "\n",
    "----"
   ]
  },
  {
   "cell_type": "markdown",
   "metadata": {},
   "source": [
    "#### Dimensionality Reduction"
   ]
  },
  {
   "cell_type": "code",
   "execution_count": null,
   "metadata": {},
   "outputs": [],
   "source": [
    "sc.tl.pca(cr, svd_solver='arpack')\n",
    "sc.tl.pca(ss, svd_solver='arpack')"
   ]
  },
  {
   "cell_type": "code",
   "execution_count": null,
   "metadata": {},
   "outputs": [],
   "source": [
    "sc.pl.pca_variance_ratio(cr, log=True)"
   ]
  },
  {
   "cell_type": "code",
   "execution_count": null,
   "metadata": {},
   "outputs": [],
   "source": [
    "sc.pl.pca_variance_ratio(ss, log=True)"
   ]
  },
  {
   "cell_type": "markdown",
   "metadata": {},
   "source": [
    "----\n",
    "\n",
    "*Takeaway:* Principal Component structure within both datasets appears different.\n",
    "\n",
    "----"
   ]
  },
  {
   "cell_type": "code",
   "execution_count": null,
   "metadata": {},
   "outputs": [],
   "source": [
    "sc.pp.neighbors(cr, n_neighbors=10, n_pcs=40)\n",
    "sc.pp.neighbors(ss, n_neighbors=10, n_pcs=40)\n",
    "\n",
    "sc.tl.leiden(cr)\n",
    "sc.tl.leiden(ss)\n",
    "\n",
    "sc.tl.umap(cr)\n",
    "sc.tl.umap(ss)"
   ]
  },
  {
   "cell_type": "code",
   "execution_count": null,
   "metadata": {},
   "outputs": [],
   "source": [
    "sc.pl.umap(cr, color='leiden')"
   ]
  },
  {
   "cell_type": "code",
   "execution_count": null,
   "metadata": {},
   "outputs": [],
   "source": [
    "sc.pl.umap(ss, color='leiden')"
   ]
  },
  {
   "cell_type": "markdown",
   "metadata": {},
   "source": [
    "----\n",
    "\n",
    "*Takeaway:* The number of clusters and the clustering are different.\n",
    "\n",
    "----\n"
   ]
  },
  {
   "cell_type": "markdown",
   "metadata": {},
   "source": [
    "#### Subset CellRanger to only the barcodes kept in STARsolo."
   ]
  },
  {
   "cell_type": "code",
   "execution_count": null,
   "metadata": {},
   "outputs": [],
   "source": [
    "keep = []\n",
    "for i in ss.obs.index:\n",
    "    keep.append(i+'-1')\n",
    "len(keep)"
   ]
  },
  {
   "cell_type": "code",
   "execution_count": null,
   "metadata": {},
   "outputs": [],
   "source": [
    "# subset CR\n",
    "cr_sub = cr[keep]\n",
    "cr_sub"
   ]
  },
  {
   "cell_type": "code",
   "execution_count": null,
   "metadata": {},
   "outputs": [],
   "source": [
    "# convert SS to have -1 at the end of everything so the correlation will work\n",
    "ss.obs.index = keep"
   ]
  },
  {
   "cell_type": "code",
   "execution_count": null,
   "metadata": {},
   "outputs": [],
   "source": [
    "sc.tl.pca(cr_sub, svd_solver='arpack')\n",
    "sc.pp.neighbors(cr_sub, n_neighbors=10, n_pcs=40)\n",
    "sc.tl.leiden(cr_sub)\n",
    "sc.tl.umap(cr_sub)"
   ]
  },
  {
   "cell_type": "code",
   "execution_count": null,
   "metadata": {},
   "outputs": [],
   "source": [
    "sc.pl.umap(cr_sub, color='leiden')"
   ]
  },
  {
   "cell_type": "code",
   "execution_count": null,
   "metadata": {},
   "outputs": [],
   "source": [
    "sc.pl.umap(ss, color='leiden')"
   ]
  },
  {
   "cell_type": "markdown",
   "metadata": {},
   "source": [
    "----\n",
    "\n",
    "*Takeaway:* Subsetting CellRanger to the barcodes kept in STARsolo does not improve the clustering.\n",
    "\n",
    "----"
   ]
  },
  {
   "cell_type": "markdown",
   "metadata": {},
   "source": [
    "#### Calculate pairwise correlation between the two datasets (cell-wise)."
   ]
  },
  {
   "cell_type": "code",
   "execution_count": null,
   "metadata": {},
   "outputs": [],
   "source": [
    "# calculate pairwise correlation between the cells\n",
    "corr = cr_sub.to_df().corrwith(other=ss.to_df(), axis=1, method='spearman')"
   ]
  },
  {
   "cell_type": "code",
   "execution_count": null,
   "metadata": {},
   "outputs": [],
   "source": [
    "corr.max()"
   ]
  },
  {
   "cell_type": "code",
   "execution_count": null,
   "metadata": {},
   "outputs": [],
   "source": [
    "corr.min()"
   ]
  },
  {
   "cell_type": "code",
   "execution_count": null,
   "metadata": {},
   "outputs": [],
   "source": [
    "plt.hist(corr)"
   ]
  },
  {
   "cell_type": "markdown",
   "metadata": {},
   "source": [
    "----\n",
    "\n",
    "*Takeaway:* Most cells do not correlate between the datasets. \n",
    "\n",
    "----"
   ]
  },
  {
   "cell_type": "code",
   "execution_count": null,
   "metadata": {},
   "outputs": [],
   "source": []
  }
 ],
 "metadata": {
  "kernelspec": {
   "display_name": "Python 3",
   "language": "python",
   "name": "python3"
  },
  "language_info": {
   "codemirror_mode": {
    "name": "ipython",
    "version": 3
   },
   "file_extension": ".py",
   "mimetype": "text/x-python",
   "name": "python",
   "nbconvert_exporter": "python",
   "pygments_lexer": "ipython3",
   "version": "3.8.5"
  },
  "toc": {
   "base_numbering": 1,
   "nav_menu": {},
   "number_sections": true,
   "sideBar": true,
   "skip_h1_title": false,
   "title_cell": "Table of Contents",
   "title_sidebar": "Contents",
   "toc_cell": false,
   "toc_position": {},
   "toc_section_display": true,
   "toc_window_display": false
  }
 },
 "nbformat": 4,
 "nbformat_minor": 5
}
